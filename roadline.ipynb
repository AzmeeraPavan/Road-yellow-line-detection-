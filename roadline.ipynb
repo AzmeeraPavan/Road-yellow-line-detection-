{
 "cells": [
  {
   "cell_type": "code",
   "execution_count": null,
   "id": "20297dec",
   "metadata": {},
   "outputs": [],
   "source": [
    "\n",
    "import cv2\n",
    "import numpy as np"
   ]
  },
  {
   "cell_type": "code",
   "execution_count": null,
   "id": "bc1e696d",
   "metadata": {},
   "outputs": [],
   "source": [
    "# Define the path to the video file\n",
    "video_path = r\"C:\\project data set\\road line\\road_car_view.mp4\""
   ]
  },
  {
   "cell_type": "code",
   "execution_count": null,
   "id": "037353be",
   "metadata": {},
   "outputs": [],
   "source": [
    "\n",
    "# Create a VideoCapture object to open the video file\n",
    "video = cv2.VideoCapture(video_path)\n"
   ]
  },
  {
   "cell_type": "code",
   "execution_count": null,
   "id": "ffc2d997",
   "metadata": {},
   "outputs": [],
   "source": [
    "\n",
    "# Main processing loop for each frame of the video\n",
    "while True:\n",
    "    # Read a frame from the video\n",
    "    ret, original_frame = video.read()\n",
    "\n",
    "    # Check if the frame was successfully read\n",
    "    if not ret:\n",
    "        # If not, reset the video capture to the beginning\n",
    "        video = cv2.VideoCapture(video_path)\n",
    "        continue\n",
    "\n",
    "    # Apply Gaussian Blur to the frame to reduce noise\n",
    "    blurred_frame = cv2.GaussianBlur(original_frame, (5, 5), 0)\n",
    "\n",
    "    # Convert the frame to the HSV color space for better color representation\n",
    "    hsv_frame = cv2.cvtColor(blurred_frame, cv2.COLOR_BGR2HSV)\n",
    "\n",
    "    # Define the lower and upper thresholds for detecting yellow color\n",
    "    lower_white = np.array([18,94,140])\n",
    "    upper_white = np.array([48,255,255])\n",
    "\n",
    "    # Create a binary mask to isolate yellow color in the frame\n",
    "    white_mask = cv2.inRange(hsv_frame, lower_white, upper_white)\n",
    "\n",
    "    # Apply Canny edge detection to the masked frame\n",
    "    edges = cv2.Canny(white_mask, 74, 150)\n",
    "\n",
    "    # Use Hough Transform to detect lines in the edge-detected frame\n",
    "    lines = cv2.HoughLinesP(edges, 1, np.pi / 180, 50, maxLineGap=50)\n",
    "\n",
    "    # Check if any lines were detected\n",
    "    if lines is not None:\n",
    "        # Draw the detected lines on the original frame\n",
    "        for line in lines:\n",
    "            x1, y1, x2, y2 = line[0]\n",
    "            cv2.line(original_frame, (x1, y1), (x2, y2), (0, 255, 0), 3)\n",
    "\n",
    "    # Display the frame with detected lines\n",
    "    cv2.imshow(\"Detected Lines\", original_frame)\n",
    "\n",
    "    # Display the edge-detected frame\n",
    "    cv2.imshow(\"Canny Edges\", edges)\n",
    "\n",
    "    # Wait for a key press, break the loop if the 'Esc' key is pressed\n",
    "    key = cv2.waitKey(25)\n",
    "    if key == 27:\n",
    "        break\n",
    "    \n",
    "\n",
    "\n"
   ]
  },
  {
   "cell_type": "code",
   "execution_count": null,
   "id": "bc1b5817",
   "metadata": {},
   "outputs": [],
   "source": [
    "# Release the video capture object and close all windows\n",
    "video.release()\n",
    "cv2.destroyAllWindows()"
   ]
  },
  {
   "cell_type": "code",
   "execution_count": null,
   "id": "cb9e836a",
   "metadata": {},
   "outputs": [],
   "source": [
    "#print(accuracy)"
   ]
  },
  {
   "cell_type": "code",
   "execution_count": null,
   "id": "aac89051",
   "metadata": {},
   "outputs": [],
   "source": []
  },
  {
   "cell_type": "code",
   "execution_count": null,
   "id": "51cfe389",
   "metadata": {},
   "outputs": [],
   "source": []
  }
 ],
 "metadata": {
  "kernelspec": {
   "display_name": "Python 3 (ipykernel)",
   "language": "python",
   "name": "python3"
  },
  "language_info": {
   "codemirror_mode": {
    "name": "ipython",
    "version": 3
   },
   "file_extension": ".py",
   "mimetype": "text/x-python",
   "name": "python",
   "nbconvert_exporter": "python",
   "pygments_lexer": "ipython3",
   "version": "3.10.13"
  }
 },
 "nbformat": 4,
 "nbformat_minor": 5
}
